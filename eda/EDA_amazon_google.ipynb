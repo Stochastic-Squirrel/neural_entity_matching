{
 "cells": [
  {
   "cell_type": "markdown",
   "metadata": {},
   "source": [
    "# Exploratory Analysis of Amazon-Google Entity Product Matching Data Set"
   ]
  },
  {
   "cell_type": "code",
   "execution_count": 1,
   "metadata": {},
   "outputs": [
    {
     "output_type": "execute_result",
     "data": {
      "text/plain": "'c:\\\\Users\\\\seans\\\\Documents\\\\neural_entity_matching\\\\eda'"
     },
     "metadata": {},
     "execution_count": 1
    }
   ],
   "source": [
    "import pandas as pd \n",
    "import numpy as np \n",
    "import seaborn as sns\n",
    "import matplotlib.pyplot as plt\n",
    "# Navigate to current EDA directory as the relative path point\n",
    "%pwd"
   ]
  },
  {
   "cell_type": "code",
   "execution_count": 8,
   "metadata": {},
   "outputs": [
    {
     "output_type": "error",
     "ename": "SyntaxError",
     "evalue": "invalid syntax (<ipython-input-8-9a2fa1444115>, line 1)",
     "traceback": [
      "\u001b[1;36m  File \u001b[1;32m\"<ipython-input-8-9a2fa1444115>\"\u001b[1;36m, line \u001b[1;32m1\u001b[0m\n\u001b[1;33m    amz_train = pd.read_csv(\"../data/amazon_google/Amazon_train.csv\",index_col=\"id\")[,-1]\u001b[0m\n\u001b[1;37m                                                                                     ^\u001b[0m\n\u001b[1;31mSyntaxError\u001b[0m\u001b[1;31m:\u001b[0m invalid syntax\n"
     ]
    }
   ],
   "source": [
    "amz_train = pd.read_csv(\"../data/amazon_google/Amazon_train.csv\",index_col=\"id\")\n",
    "g_train = pd.read_csv(\"../data/amazon_google/Amazon_train.csv\",index_col=\"id\")\n",
    "\n",
    "matches_train = pd.read_csv(\"../data/amazon_google/AG_perfect_matching_train.csv\",index_col = [\"idAmazon\",\"idGoogleBase\"])\n",
    "matches_test = pd.read_csv(\"../data/amazon_google/AG_perfect_matching_test.csv\",index_col = [\"idAmazon\",\"idGoogleBase\"])"
   ]
  },
  {
   "cell_type": "code",
   "execution_count": 3,
   "metadata": {
    "tags": []
   },
   "outputs": [
    {
     "output_type": "execute_result",
     "data": {
      "text/plain": "       Unnamed: 0          price\ncount  1113.00000    1113.000000\nmean    556.00000     385.618985\nstd     321.43973    3423.399301\nmin       0.00000       0.000000\n25%     278.00000      19.950000\n50%     556.00000      39.950000\n75%     834.00000     145.390000\nmax    1112.00000  101515.550000",
      "text/html": "<div>\n<style scoped>\n    .dataframe tbody tr th:only-of-type {\n        vertical-align: middle;\n    }\n\n    .dataframe tbody tr th {\n        vertical-align: top;\n    }\n\n    .dataframe thead th {\n        text-align: right;\n    }\n</style>\n<table border=\"1\" class=\"dataframe\">\n  <thead>\n    <tr style=\"text-align: right;\">\n      <th></th>\n      <th>Unnamed: 0</th>\n      <th>price</th>\n    </tr>\n  </thead>\n  <tbody>\n    <tr>\n      <th>count</th>\n      <td>1113.00000</td>\n      <td>1113.000000</td>\n    </tr>\n    <tr>\n      <th>mean</th>\n      <td>556.00000</td>\n      <td>385.618985</td>\n    </tr>\n    <tr>\n      <th>std</th>\n      <td>321.43973</td>\n      <td>3423.399301</td>\n    </tr>\n    <tr>\n      <th>min</th>\n      <td>0.00000</td>\n      <td>0.000000</td>\n    </tr>\n    <tr>\n      <th>25%</th>\n      <td>278.00000</td>\n      <td>19.950000</td>\n    </tr>\n    <tr>\n      <th>50%</th>\n      <td>556.00000</td>\n      <td>39.950000</td>\n    </tr>\n    <tr>\n      <th>75%</th>\n      <td>834.00000</td>\n      <td>145.390000</td>\n    </tr>\n    <tr>\n      <th>max</th>\n      <td>1112.00000</td>\n      <td>101515.550000</td>\n    </tr>\n  </tbody>\n</table>\n</div>"
     },
     "metadata": {},
     "execution_count": 3
    }
   ],
   "source": [
    "amz_train.describe()"
   ]
  },
  {
   "cell_type": "code",
   "execution_count": null,
   "metadata": {},
   "outputs": [],
   "source": []
  }
 ],
 "metadata": {
  "language_info": {
   "codemirror_mode": {
    "name": "ipython",
    "version": 3
   },
   "file_extension": ".py",
   "mimetype": "text/x-python",
   "name": "python",
   "nbconvert_exporter": "python",
   "pygments_lexer": "ipython3",
   "version": 3
  },
  "orig_nbformat": 2,
  "kernelspec": {
   "name": "python_defaultSpec_1594061053566",
   "display_name": "Python 3.7.0 64-bit ('entity_matching': conda)"
  }
 },
 "nbformat": 4,
 "nbformat_minor": 2
}